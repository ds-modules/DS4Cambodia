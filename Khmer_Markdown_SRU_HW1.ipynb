{
  "cells": [
    {
      "cell_type": "markdown",
      "id": "d2cf834e-4b3f-427c-860a-dfb6db01fc0e",
      "metadata": {
        "id": "d2cf834e-4b3f-427c-860a-dfb6db01fc0e"
      },
      "source": [
        "## Khmer bilingual Notebook Development"
      ]
    },
    {
      "cell_type": "markdown",
      "id": "097742fb-1932-47ff-852c-6388d054ae44",
      "metadata": {
        "id": "097742fb-1932-47ff-852c-6388d054ae44"
      },
      "source": [
        "The purpose of this notebook is to develop a bilingual Khmer and English notebook for a first time user to start working on Juptyer notebooks for learnign Data Science\n",
        "\n",
        "Possible goals would be to develop a Lab 0  -\n",
        "\n",
        "Some good resources come from our [Curriculum Guide](https://ds-modules.github.io/curriculum-guide/intro.html)\n",
        "\n",
        " - [Lab 0](https://ds-modules.github.io/curriculum-guide/technology/pedagogy-and-technology/notebook-zero.html)\n",
        " - [Authoring Assignments](https://ds-modules.github.io/curriculum-guide/workflow/creating-notebooks.html)\n"
      ]
    },
    {
      "cell_type": "markdown",
      "id": "fdb1e1cd-3e95-460c-a9d9-df7f69835d90",
      "metadata": {
        "id": "fdb1e1cd-3e95-460c-a9d9-df7f69835d90"
      },
      "source": [
        "The point here is that Khmer can be passed in as an alternative language in the Markdown Cells - as long as a Jupyter extensions module is installed\n",
        "\n"
      ]
    },
    {
      "cell_type": "code",
      "execution_count": null,
      "id": "d9a4ec5c-ef97-4643-96e8-cdbdea530de3",
      "metadata": {
        "id": "d9a4ec5c-ef97-4643-96e8-cdbdea530de3"
      },
      "outputs": [],
      "source": [
        "# if not installed\n",
        "# !pip install jupyter-contrib-nbextensions"
      ]
    },
    {
      "cell_type": "markdown",
      "id": "9b01a81c-b340-4073-a18b-57f5dd9deb3e",
      "metadata": {
        "id": "9b01a81c-b340-4073-a18b-57f5dd9deb3e"
      },
      "source": [
        "<div lang=\"km\">\n",
        "ស្វាគមន៍មកការប្រតិបត្តិកម្មវិធី Jupyter notebooks!...\n",
        "    \n",
        "    អ្នកប្រាជ្ញកម្ពុជានឹងបង្កើតកម្មវិធីសិក្សាដ៏ស្រស់ស្អាត ដោយមានជំនួយពី UC Berkeley in collaboration with SRU\n",
        "</div>\n"
      ]
    },
    {
      "cell_type": "markdown",
      "id": "97ef23c0-f374-474c-9464-5e79fe0f9aea",
      "metadata": {
        "id": "97ef23c0-f374-474c-9464-5e79fe0f9aea"
      },
      "source": [
        "<div lang=\"km\">\n",
        "ស្វាគមន៍មកការប្រតិបត្តិកម្មវិធី Jupyter notebooks!...\n",
        "    \n",
        "    អ្នកប្រាជ្ញកម្ពុជានឹងបង្កើតកម្មវិធីសិក្សាដ៏ស្រស់ស្អាត ដោយមានជំនួយពី UC Berkeley\n",
        "</div>\n"
      ]
    },
    {
      "cell_type": "markdown",
      "id": "8c2342e8-eca2-4144-aa71-fee53ed5e3f6",
      "metadata": {
        "id": "8c2342e8-eca2-4144-aa71-fee53ed5e3f6"
      },
      "source": [
        "## Let's get started - Lab 0 Intro Lab"
      ]
    },
    {
      "cell_type": "markdown",
      "id": "0e245580-5210-4586-80ed-4b29d7c32196",
      "metadata": {
        "id": "0e245580-5210-4586-80ed-4b29d7c32196"
      },
      "source": [
        "From here the point would be to start to make cells that can explain to a new user how to use a Jupyter notebook in Khmer - and potentially to provide a reference for key terms that they need to learn in Python English\n",
        " - Table\n",
        " - Numbers\n",
        " - String\n",
        " - Package\n",
        " - Error\n",
        " - Import\n",
        " - Plot\n",
        "\n",
        "Etc....\n",
        " -"
      ]
    },
    {
      "cell_type": "markdown",
      "id": "5b3beff3-c1f0-4633-847c-b8bba1cbf525",
      "metadata": {
        "id": "5b3beff3-c1f0-4633-847c-b8bba1cbf525"
      },
      "source": [
        "## Localizing Data for Cambodia\n",
        "\n",
        "### Maybe we could do Data 8 Lab 2 with Cambodia data?\n",
        "[Data 8 Lab 2](https://github.com/data-8/materials-sp22-colab-no-footprint/blob/main/lab/lab02/lab02.ipynb)\n",
        "\n",
        "\n",
        "Maybe some [Census Data](https://www.nis.gov.kh/nis/Census2019/Provisional%20Population%20Census%202019_English_FINAL.pdf)?\n",
        "\n",
        "Lots of Data at Open Data Portal [OpenDevelopmentCambodia](https://data.opendevelopmentcambodia.net/en/organization/cambodia-organization)\n",
        "\n",
        "\n",
        "[Census Data from 2008](https://data.opendevelopmentcambodia.net/en/dataset/census-2008/resource/4b99aba0-ce2d-4790-8d74-8fb30f83f5b7)\n"
      ]
    },
    {
      "cell_type": "code",
      "execution_count": 1,
      "id": "2c1e7eae-ee1f-407f-86b9-1b9ef873ad93",
      "metadata": {
        "id": "2c1e7eae-ee1f-407f-86b9-1b9ef873ad93"
      },
      "outputs": [],
      "source": [
        "from datascience import *"
      ]
    },
    {
      "cell_type": "code",
      "source": [
        "first_dataset = \"https://raw.githubusercontent.com/ds-modules/DS4Cambodia/main/provisional_census2019.csv\""
      ],
      "metadata": {
        "id": "Einzu4xukNbH"
      },
      "id": "Einzu4xukNbH",
      "execution_count": 2,
      "outputs": []
    },
    {
      "cell_type": "code",
      "execution_count": 3,
      "id": "08395072-c597-428c-8ee8-1b63c92a125d",
      "metadata": {
        "id": "08395072-c597-428c-8ee8-1b63c92a125d",
        "outputId": "013391bd-4f22-4e16-ecec-cf0fe598c225",
        "colab": {
          "base_uri": "https://localhost:8080/",
          "height": 392
        }
      },
      "outputs": [
        {
          "output_type": "execute_result",
          "data": {
            "text/plain": [
              "pro_code | Provinces_kh | Provinces        | Households | Males  | Females | Total   | Household size | area_km2 | pop_km2 | reference\n",
              "1        | បន្ទាយមានជ័យ | Banteay Meanchey | 177526     | 426104 | 433441  | 859545  | 4.8            | 6679     | 129     | Provisional_Population_Census__00.06.2019.pdf\n",
              "2        | បាត់ដំបង     | Battambang       | 218584     | 458902 | 528498  | 987400  | 4.5            | 11702    | 84      | Provisional_Population_Census__00.06.2019.pdf\n",
              "3        | កំពង់ចាម     | Kampong Cham     | 215923     | 428481 | 467282  | 895763  | 4.1            | 4549     | 197     | Provisional_Population_Census__00.06.2019.pdf\n",
              "4        | កំពង់ឆ្នាំង  | Kampong Chhnang  | 122925     | 251895 | 274037  | 525932  | 4.3            | 5521     | 95      | Provisional_Population_Census__00.06.2019.pdf\n",
              "5        | កំពង់ស្ពឺ    | Kampong Speu     | 187835     | 424039 | 448180  | 872219  | 4.6            | 7017     | 124     | Provisional_Population_Census__00.06.2019.pdf\n",
              "6        | កំពង់ធំ      | Kampong Thom     | 154458     | 327013 | 350247  | 677260  | 4.4            | 13814    | 49      | Provisional_Population_Census__00.06.2019.pdf\n",
              "7        | កំពត         | Kampot           | 138374     | 280537 | 312308  | 592845  | 4.3            | 4873     | 122     | Provisional_Population_Census__00.06.2019.pdf\n",
              "8        | កណ្តាល       | Kandal           | 273111     | 580129 | 615418  | 1195547 | 4.4            | 3179     | 376     | Provisional_Population_Census__00.06.2019.pdf\n",
              "9        | កោះកុង       | Koh Kong         | 26716      | 62304  | 61314   | 123618  | 4.6            | 10090    | 12      | Provisional_Population_Census__00.06.2019.pdf\n",
              "10       | ក្រចេះ       | Kratie           | 86137      | 185429 | 187396  | 372825  | 4.3            | 11094    | 34      | Provisional_Population_Census__00.06.2019.pdf\n",
              "... (16 rows omitted)"
            ],
            "text/html": [
              "<table border=\"1\" class=\"dataframe\">\n",
              "    <thead>\n",
              "        <tr>\n",
              "            <th>pro_code</th> <th>Provinces_kh</th> <th>Provinces</th> <th>Households</th> <th>Males</th> <th>Females</th> <th>Total</th> <th>Household size</th> <th>area_km2</th> <th>pop_km2</th> <th>reference</th>\n",
              "        </tr>\n",
              "    </thead>\n",
              "    <tbody>\n",
              "        <tr>\n",
              "            <td>1       </td> <td>បន្ទាយមានជ័យ</td> <td>Banteay Meanchey</td> <td>177526    </td> <td>426104</td> <td>433441 </td> <td>859545 </td> <td>4.8           </td> <td>6679    </td> <td>129    </td> <td>Provisional_Population_Census__00.06.2019.pdf</td>\n",
              "        </tr>\n",
              "        <tr>\n",
              "            <td>2       </td> <td>បាត់ដំបង    </td> <td>Battambang      </td> <td>218584    </td> <td>458902</td> <td>528498 </td> <td>987400 </td> <td>4.5           </td> <td>11702   </td> <td>84     </td> <td>Provisional_Population_Census__00.06.2019.pdf</td>\n",
              "        </tr>\n",
              "        <tr>\n",
              "            <td>3       </td> <td>កំពង់ចាម    </td> <td>Kampong Cham    </td> <td>215923    </td> <td>428481</td> <td>467282 </td> <td>895763 </td> <td>4.1           </td> <td>4549    </td> <td>197    </td> <td>Provisional_Population_Census__00.06.2019.pdf</td>\n",
              "        </tr>\n",
              "        <tr>\n",
              "            <td>4       </td> <td>កំពង់ឆ្នាំង </td> <td>Kampong Chhnang </td> <td>122925    </td> <td>251895</td> <td>274037 </td> <td>525932 </td> <td>4.3           </td> <td>5521    </td> <td>95     </td> <td>Provisional_Population_Census__00.06.2019.pdf</td>\n",
              "        </tr>\n",
              "        <tr>\n",
              "            <td>5       </td> <td>កំពង់ស្ពឺ   </td> <td>Kampong Speu    </td> <td>187835    </td> <td>424039</td> <td>448180 </td> <td>872219 </td> <td>4.6           </td> <td>7017    </td> <td>124    </td> <td>Provisional_Population_Census__00.06.2019.pdf</td>\n",
              "        </tr>\n",
              "        <tr>\n",
              "            <td>6       </td> <td>កំពង់ធំ     </td> <td>Kampong Thom    </td> <td>154458    </td> <td>327013</td> <td>350247 </td> <td>677260 </td> <td>4.4           </td> <td>13814   </td> <td>49     </td> <td>Provisional_Population_Census__00.06.2019.pdf</td>\n",
              "        </tr>\n",
              "        <tr>\n",
              "            <td>7       </td> <td>កំពត        </td> <td>Kampot          </td> <td>138374    </td> <td>280537</td> <td>312308 </td> <td>592845 </td> <td>4.3           </td> <td>4873    </td> <td>122    </td> <td>Provisional_Population_Census__00.06.2019.pdf</td>\n",
              "        </tr>\n",
              "        <tr>\n",
              "            <td>8       </td> <td>កណ្តាល      </td> <td>Kandal          </td> <td>273111    </td> <td>580129</td> <td>615418 </td> <td>1195547</td> <td>4.4           </td> <td>3179    </td> <td>376    </td> <td>Provisional_Population_Census__00.06.2019.pdf</td>\n",
              "        </tr>\n",
              "        <tr>\n",
              "            <td>9       </td> <td>កោះកុង      </td> <td>Koh Kong        </td> <td>26716     </td> <td>62304 </td> <td>61314  </td> <td>123618 </td> <td>4.6           </td> <td>10090   </td> <td>12     </td> <td>Provisional_Population_Census__00.06.2019.pdf</td>\n",
              "        </tr>\n",
              "        <tr>\n",
              "            <td>10      </td> <td>ក្រចេះ      </td> <td>Kratie          </td> <td>86137     </td> <td>185429</td> <td>187396 </td> <td>372825 </td> <td>4.3           </td> <td>11094   </td> <td>34     </td> <td>Provisional_Population_Census__00.06.2019.pdf</td>\n",
              "        </tr>\n",
              "    </tbody>\n",
              "</table>\n",
              "<p>... (16 rows omitted)</p>"
            ]
          },
          "metadata": {},
          "execution_count": 3
        }
      ],
      "source": [
        "kh_census = Table.read_table(first_dataset)\n",
        "kh_census"
      ]
    },
    {
      "cell_type": "code",
      "execution_count": 4,
      "id": "0f34f0c9-422d-4615-ab83-df2eea37c797",
      "metadata": {
        "id": "0f34f0c9-422d-4615-ab83-df2eea37c797",
        "outputId": "297a0a9c-f1ed-4b06-9d9b-9d25f073e76d",
        "colab": {
          "base_uri": "https://localhost:8080/",
          "height": 392
        }
      },
      "outputs": [
        {
          "output_type": "execute_result",
          "data": {
            "text/plain": [
              "pro_code | Provinces_kh | Provinces        | Households | Males  | Females | Total   | Household size | area_km2 | pop_km2 | reference\n",
              "1        | បន្ទាយមានជ័យ | Banteay Meanchey | 177526     | 426104 | 433441  | 859545  | 4.8            | 6679     | 129     | Provisional_Population_Census__00.06.2019.pdf\n",
              "2        | បាត់ដំបង     | Battambang       | 218584     | 458902 | 528498  | 987400  | 4.5            | 11702    | 84      | Provisional_Population_Census__00.06.2019.pdf\n",
              "3        | កំពង់ចាម     | Kampong Cham     | 215923     | 428481 | 467282  | 895763  | 4.1            | 4549     | 197     | Provisional_Population_Census__00.06.2019.pdf\n",
              "4        | កំពង់ឆ្នាំង  | Kampong Chhnang  | 122925     | 251895 | 274037  | 525932  | 4.3            | 5521     | 95      | Provisional_Population_Census__00.06.2019.pdf\n",
              "5        | កំពង់ស្ពឺ    | Kampong Speu     | 187835     | 424039 | 448180  | 872219  | 4.6            | 7017     | 124     | Provisional_Population_Census__00.06.2019.pdf\n",
              "6        | កំពង់ធំ      | Kampong Thom     | 154458     | 327013 | 350247  | 677260  | 4.4            | 13814    | 49      | Provisional_Population_Census__00.06.2019.pdf\n",
              "7        | កំពត         | Kampot           | 138374     | 280537 | 312308  | 592845  | 4.3            | 4873     | 122     | Provisional_Population_Census__00.06.2019.pdf\n",
              "8        | កណ្តាល       | Kandal           | 273111     | 580129 | 615418  | 1195547 | 4.4            | 3179     | 376     | Provisional_Population_Census__00.06.2019.pdf\n",
              "9        | កោះកុង       | Koh Kong         | 26716      | 62304  | 61314   | 123618  | 4.6            | 10090    | 12      | Provisional_Population_Census__00.06.2019.pdf\n",
              "10       | ក្រចេះ       | Kratie           | 86137      | 185429 | 187396  | 372825  | 4.3            | 11094    | 34      | Provisional_Population_Census__00.06.2019.pdf\n",
              "... (16 rows omitted)"
            ],
            "text/html": [
              "<table border=\"1\" class=\"dataframe\">\n",
              "    <thead>\n",
              "        <tr>\n",
              "            <th>pro_code</th> <th>Provinces_kh</th> <th>Provinces</th> <th>Households</th> <th>Males</th> <th>Females</th> <th>Total</th> <th>Household size</th> <th>area_km2</th> <th>pop_km2</th> <th>reference</th>\n",
              "        </tr>\n",
              "    </thead>\n",
              "    <tbody>\n",
              "        <tr>\n",
              "            <td>1       </td> <td>បន្ទាយមានជ័យ</td> <td>Banteay Meanchey</td> <td>177526    </td> <td>426104</td> <td>433441 </td> <td>859545 </td> <td>4.8           </td> <td>6679    </td> <td>129    </td> <td>Provisional_Population_Census__00.06.2019.pdf</td>\n",
              "        </tr>\n",
              "        <tr>\n",
              "            <td>2       </td> <td>បាត់ដំបង    </td> <td>Battambang      </td> <td>218584    </td> <td>458902</td> <td>528498 </td> <td>987400 </td> <td>4.5           </td> <td>11702   </td> <td>84     </td> <td>Provisional_Population_Census__00.06.2019.pdf</td>\n",
              "        </tr>\n",
              "        <tr>\n",
              "            <td>3       </td> <td>កំពង់ចាម    </td> <td>Kampong Cham    </td> <td>215923    </td> <td>428481</td> <td>467282 </td> <td>895763 </td> <td>4.1           </td> <td>4549    </td> <td>197    </td> <td>Provisional_Population_Census__00.06.2019.pdf</td>\n",
              "        </tr>\n",
              "        <tr>\n",
              "            <td>4       </td> <td>កំពង់ឆ្នាំង </td> <td>Kampong Chhnang </td> <td>122925    </td> <td>251895</td> <td>274037 </td> <td>525932 </td> <td>4.3           </td> <td>5521    </td> <td>95     </td> <td>Provisional_Population_Census__00.06.2019.pdf</td>\n",
              "        </tr>\n",
              "        <tr>\n",
              "            <td>5       </td> <td>កំពង់ស្ពឺ   </td> <td>Kampong Speu    </td> <td>187835    </td> <td>424039</td> <td>448180 </td> <td>872219 </td> <td>4.6           </td> <td>7017    </td> <td>124    </td> <td>Provisional_Population_Census__00.06.2019.pdf</td>\n",
              "        </tr>\n",
              "        <tr>\n",
              "            <td>6       </td> <td>កំពង់ធំ     </td> <td>Kampong Thom    </td> <td>154458    </td> <td>327013</td> <td>350247 </td> <td>677260 </td> <td>4.4           </td> <td>13814   </td> <td>49     </td> <td>Provisional_Population_Census__00.06.2019.pdf</td>\n",
              "        </tr>\n",
              "        <tr>\n",
              "            <td>7       </td> <td>កំពត        </td> <td>Kampot          </td> <td>138374    </td> <td>280537</td> <td>312308 </td> <td>592845 </td> <td>4.3           </td> <td>4873    </td> <td>122    </td> <td>Provisional_Population_Census__00.06.2019.pdf</td>\n",
              "        </tr>\n",
              "        <tr>\n",
              "            <td>8       </td> <td>កណ្តាល      </td> <td>Kandal          </td> <td>273111    </td> <td>580129</td> <td>615418 </td> <td>1195547</td> <td>4.4           </td> <td>3179    </td> <td>376    </td> <td>Provisional_Population_Census__00.06.2019.pdf</td>\n",
              "        </tr>\n",
              "        <tr>\n",
              "            <td>9       </td> <td>កោះកុង      </td> <td>Koh Kong        </td> <td>26716     </td> <td>62304 </td> <td>61314  </td> <td>123618 </td> <td>4.6           </td> <td>10090   </td> <td>12     </td> <td>Provisional_Population_Census__00.06.2019.pdf</td>\n",
              "        </tr>\n",
              "        <tr>\n",
              "            <td>10      </td> <td>ក្រចេះ      </td> <td>Kratie          </td> <td>86137     </td> <td>185429</td> <td>187396 </td> <td>372825 </td> <td>4.3           </td> <td>11094   </td> <td>34     </td> <td>Provisional_Population_Census__00.06.2019.pdf</td>\n",
              "        </tr>\n",
              "    </tbody>\n",
              "</table>\n",
              "<p>... (16 rows omitted)</p>"
            ]
          },
          "metadata": {},
          "execution_count": 4
        }
      ],
      "source": [
        "kh_census"
      ]
    },
    {
      "cell_type": "markdown",
      "id": "ff59b809-e6cf-461f-a7db-3b73c9ad45b2",
      "metadata": {
        "id": "ff59b809-e6cf-461f-a7db-3b73c9ad45b2"
      },
      "source": [
        "## Exploring a Dataset\n",
        "\n",
        "For your reference, here's a table of all the functions and methods we can use to explore the data.\n",
        "We'll learn more methods to add to this table in the coming week!\n",
        "\n",
        "|Name|Example|Purpose|\n",
        "|-|-|-|\n",
        "|`sort`|`tbl.sort(\"N\")`|Create a copy of a table sorted by the values in a column|\n",
        "|`where`|`tbl.where(\"N\", are.above(2))`|Create a copy of a table with only the rows that match some *predicate*|\n",
        "|`num_rows`|`tbl.num_rows`|Compute the number of rows in a table|\n",
        "|`num_columns`|`tbl.num_columns`|Compute the number of columns in a table|\n",
        "|`select`|`tbl.select(\"N\")`|Create a copy of a table with only some of the columns|\n",
        "|`drop`|`tbl.drop(\"N\")`|Create a copy of a table without some of the columns|"
      ]
    },
    {
      "cell_type": "code",
      "execution_count": 5,
      "id": "4c4b370f-2ab4-482f-a80b-fe4497456e75",
      "metadata": {
        "id": "4c4b370f-2ab4-482f-a80b-fe4497456e75",
        "outputId": "95c76a3a-e3d2-40ff-ee7b-80eeb6b1924a",
        "colab": {
          "base_uri": "https://localhost:8080/"
        }
      },
      "outputs": [
        {
          "output_type": "execute_result",
          "data": {
            "text/plain": [
              "26"
            ]
          },
          "metadata": {},
          "execution_count": 5
        }
      ],
      "source": [
        "kh_census.num_rows"
      ]
    },
    {
      "cell_type": "code",
      "execution_count": 6,
      "id": "2849fdfe-e847-4396-ba5e-fb8555315b42",
      "metadata": {
        "id": "2849fdfe-e847-4396-ba5e-fb8555315b42",
        "outputId": "02f798fe-0ec6-4ced-be27-43ef573543df",
        "colab": {
          "base_uri": "https://localhost:8080/"
        }
      },
      "outputs": [
        {
          "output_type": "execute_result",
          "data": {
            "text/plain": [
              "11"
            ]
          },
          "metadata": {},
          "execution_count": 6
        }
      ],
      "source": [
        "kh_census.num_columns"
      ]
    },
    {
      "cell_type": "code",
      "execution_count": 7,
      "id": "ebebcbb0-b817-4a25-89a1-b3cadfbfd768",
      "metadata": {
        "id": "ebebcbb0-b817-4a25-89a1-b3cadfbfd768",
        "outputId": "dde8e008-17c9-4d2a-cb94-92b7e8707840",
        "colab": {
          "base_uri": "https://localhost:8080/",
          "height": 392
        }
      },
      "outputs": [
        {
          "output_type": "execute_result",
          "data": {
            "text/plain": [
              "pro_code | Provinces_kh | Provinces        | Households | Males   | Females | Total    | Household size | area_km2 | pop_km2 | reference\n",
              "nan      | nan          | Total            | 3341770    | 7418577 | 7869912 | 15288489 | 4.6            | 178035   | 86      | Provisional_Population_Census__00.06.2019.pdf\n",
              "12       | ភ្នំពេញ      | Phnom Penh       | 399203     | 1039192 | 1090179 | 2129371  | 5.3            | 679      | 3136    | Provisional_Population_Census__00.06.2019.pdf\n",
              "8        | កណ្តាល       | Kandal           | 273111     | 580129  | 615418  | 1195547  | 4.4            | 3179     | 376     | Provisional_Population_Census__00.06.2019.pdf\n",
              "14       | ព្រៃវែង      | Prey Veng        | 227008     | 501346  | 556082  | 1057428  | 4.7            | 4883     | 217     | Provisional_Population_Census__00.06.2019.pdf\n",
              "17       | សៀមរាប       | Siem Reap        | 218659     | 491568  | 514944  | 1006512  | 4.6            | 10299    | 98      | Provisional_Population_Census__00.06.2019.pdf\n",
              "2        | បាត់ដំបង     | Battambang       | 218584     | 458902  | 528498  | 987400   | 4.5            | 11702    | 84      | Provisional_Population_Census__00.06.2019.pdf\n",
              "21       | តាកែវ        | Takeo            | 199362     | 432649  | 466836  | 899485   | 4.5            | 3563     | 252     | Provisional_Population_Census__00.06.2019.pdf\n",
              "3        | កំពង់ចាម     | Kampong Cham     | 215923     | 428481  | 467282  | 895763   | 4.1            | 4549     | 197     | Provisional_Population_Census__00.06.2019.pdf\n",
              "5        | កំពង់ស្ពឺ    | Kampong Speu     | 187835     | 424039  | 448180  | 872219   | 4.6            | 7017     | 124     | Provisional_Population_Census__00.06.2019.pdf\n",
              "1        | បន្ទាយមានជ័យ | Banteay Meanchey | 177526     | 426104  | 433441  | 859545   | 4.8            | 6679     | 129     | Provisional_Population_Census__00.06.2019.pdf\n",
              "... (16 rows omitted)"
            ],
            "text/html": [
              "<table border=\"1\" class=\"dataframe\">\n",
              "    <thead>\n",
              "        <tr>\n",
              "            <th>pro_code</th> <th>Provinces_kh</th> <th>Provinces</th> <th>Households</th> <th>Males</th> <th>Females</th> <th>Total</th> <th>Household size</th> <th>area_km2</th> <th>pop_km2</th> <th>reference</th>\n",
              "        </tr>\n",
              "    </thead>\n",
              "    <tbody>\n",
              "        <tr>\n",
              "            <td>nan     </td> <td>nan         </td> <td>Total           </td> <td>3341770   </td> <td>7418577</td> <td>7869912</td> <td>15288489</td> <td>4.6           </td> <td>178035  </td> <td>86     </td> <td>Provisional_Population_Census__00.06.2019.pdf</td>\n",
              "        </tr>\n",
              "        <tr>\n",
              "            <td>12      </td> <td>ភ្នំពេញ     </td> <td>Phnom Penh      </td> <td>399203    </td> <td>1039192</td> <td>1090179</td> <td>2129371 </td> <td>5.3           </td> <td>679     </td> <td>3136   </td> <td>Provisional_Population_Census__00.06.2019.pdf</td>\n",
              "        </tr>\n",
              "        <tr>\n",
              "            <td>8       </td> <td>កណ្តាល      </td> <td>Kandal          </td> <td>273111    </td> <td>580129 </td> <td>615418 </td> <td>1195547 </td> <td>4.4           </td> <td>3179    </td> <td>376    </td> <td>Provisional_Population_Census__00.06.2019.pdf</td>\n",
              "        </tr>\n",
              "        <tr>\n",
              "            <td>14      </td> <td>ព្រៃវែង     </td> <td>Prey Veng       </td> <td>227008    </td> <td>501346 </td> <td>556082 </td> <td>1057428 </td> <td>4.7           </td> <td>4883    </td> <td>217    </td> <td>Provisional_Population_Census__00.06.2019.pdf</td>\n",
              "        </tr>\n",
              "        <tr>\n",
              "            <td>17      </td> <td>សៀមរាប      </td> <td>Siem Reap       </td> <td>218659    </td> <td>491568 </td> <td>514944 </td> <td>1006512 </td> <td>4.6           </td> <td>10299   </td> <td>98     </td> <td>Provisional_Population_Census__00.06.2019.pdf</td>\n",
              "        </tr>\n",
              "        <tr>\n",
              "            <td>2       </td> <td>បាត់ដំបង    </td> <td>Battambang      </td> <td>218584    </td> <td>458902 </td> <td>528498 </td> <td>987400  </td> <td>4.5           </td> <td>11702   </td> <td>84     </td> <td>Provisional_Population_Census__00.06.2019.pdf</td>\n",
              "        </tr>\n",
              "        <tr>\n",
              "            <td>21      </td> <td>តាកែវ       </td> <td>Takeo           </td> <td>199362    </td> <td>432649 </td> <td>466836 </td> <td>899485  </td> <td>4.5           </td> <td>3563    </td> <td>252    </td> <td>Provisional_Population_Census__00.06.2019.pdf</td>\n",
              "        </tr>\n",
              "        <tr>\n",
              "            <td>3       </td> <td>កំពង់ចាម    </td> <td>Kampong Cham    </td> <td>215923    </td> <td>428481 </td> <td>467282 </td> <td>895763  </td> <td>4.1           </td> <td>4549    </td> <td>197    </td> <td>Provisional_Population_Census__00.06.2019.pdf</td>\n",
              "        </tr>\n",
              "        <tr>\n",
              "            <td>5       </td> <td>កំពង់ស្ពឺ   </td> <td>Kampong Speu    </td> <td>187835    </td> <td>424039 </td> <td>448180 </td> <td>872219  </td> <td>4.6           </td> <td>7017    </td> <td>124    </td> <td>Provisional_Population_Census__00.06.2019.pdf</td>\n",
              "        </tr>\n",
              "        <tr>\n",
              "            <td>1       </td> <td>បន្ទាយមានជ័យ</td> <td>Banteay Meanchey</td> <td>177526    </td> <td>426104 </td> <td>433441 </td> <td>859545  </td> <td>4.8           </td> <td>6679    </td> <td>129    </td> <td>Provisional_Population_Census__00.06.2019.pdf</td>\n",
              "        </tr>\n",
              "    </tbody>\n",
              "</table>\n",
              "<p>... (16 rows omitted)</p>"
            ]
          },
          "metadata": {},
          "execution_count": 7
        }
      ],
      "source": [
        "# Sort Provinces  by Population Size\n",
        "kh_census.sort(\"Total\", descending=True) # Annoying Spaces in Column name need to clean up"
      ]
    },
    {
      "cell_type": "code",
      "execution_count": 8,
      "id": "a692a1db-faed-43ed-9b7b-b3989b785aa0",
      "metadata": {
        "id": "a692a1db-faed-43ed-9b7b-b3989b785aa0",
        "outputId": "6ba7632e-776d-472d-d210-6d4061d65e6a",
        "colab": {
          "base_uri": "https://localhost:8080/",
          "height": 392
        }
      },
      "outputs": [
        {
          "output_type": "execute_result",
          "data": {
            "text/plain": [
              "pro_code | Provinces_kh | Provinces      | Households | Males   | Females | Total   | Household size | area_km2 | pop_km2 | reference\n",
              "23       | កែប          | Kep            | 9347       | 20615   | 21183   | 41798   | 4.5            | 336      | 124     | Provisional_Population_Census__00.06.2019.pdf\n",
              "12       | ភ្នំពេញ      | Phnom Penh     | 399203     | 1039192 | 1090179 | 2129371 | 5.3            | 679      | 3136    | Provisional_Population_Census__00.06.2019.pdf\n",
              "24       | ប៉ៃលិន       | Pailin         | 16833      | 36151   | 35449   | 71600   | 4.3            | 803      | 89      | Provisional_Population_Census__00.06.2019.pdf\n",
              "18       | ព្រះសីហនុ    | Preah Sihanouk | 51983      | 153255  | 149632  | 302887  | 5.8            | 1938     | 156     | Provisional_Population_Census__00.06.2019.pdf\n",
              "20       | ស្វាយរៀង     | Svay Rieng     | 131937     | 249446  | 275108  | 524554  | 4              | 2966     | 177     | Provisional_Population_Census__00.06.2019.pdf\n",
              "8        | កណ្តាល       | Kandal         | 273111     | 580129  | 615418  | 1195547 | 4.4            | 3179     | 376     | Provisional_Population_Census__00.06.2019.pdf\n",
              "21       | តាកែវ        | Takeo          | 199362     | 432649  | 466836  | 899485  | 4.5            | 3563     | 252     | Provisional_Population_Census__00.06.2019.pdf\n",
              "3        | កំពង់ចាម     | Kampong Cham   | 215923     | 428481  | 467282  | 895763  | 4.1            | 4549     | 197     | Provisional_Population_Census__00.06.2019.pdf\n",
              "7        | កំពត         | Kampot         | 138374     | 280537  | 312308  | 592845  | 4.3            | 4873     | 122     | Provisional_Population_Census__00.06.2019.pdf\n",
              "14       | ព្រៃវែង      | Prey Veng      | 227008     | 501346  | 556082  | 1057428 | 4.7            | 4883     | 217     | Provisional_Population_Census__00.06.2019.pdf\n",
              "... (16 rows omitted)"
            ],
            "text/html": [
              "<table border=\"1\" class=\"dataframe\">\n",
              "    <thead>\n",
              "        <tr>\n",
              "            <th>pro_code</th> <th>Provinces_kh</th> <th>Provinces</th> <th>Households</th> <th>Males</th> <th>Females</th> <th>Total</th> <th>Household size</th> <th>area_km2</th> <th>pop_km2</th> <th>reference</th>\n",
              "        </tr>\n",
              "    </thead>\n",
              "    <tbody>\n",
              "        <tr>\n",
              "            <td>23      </td> <td>កែប         </td> <td>Kep           </td> <td>9347      </td> <td>20615  </td> <td>21183  </td> <td>41798  </td> <td>4.5           </td> <td>336     </td> <td>124    </td> <td>Provisional_Population_Census__00.06.2019.pdf</td>\n",
              "        </tr>\n",
              "        <tr>\n",
              "            <td>12      </td> <td>ភ្នំពេញ     </td> <td>Phnom Penh    </td> <td>399203    </td> <td>1039192</td> <td>1090179</td> <td>2129371</td> <td>5.3           </td> <td>679     </td> <td>3136   </td> <td>Provisional_Population_Census__00.06.2019.pdf</td>\n",
              "        </tr>\n",
              "        <tr>\n",
              "            <td>24      </td> <td>ប៉ៃលិន      </td> <td>Pailin        </td> <td>16833     </td> <td>36151  </td> <td>35449  </td> <td>71600  </td> <td>4.3           </td> <td>803     </td> <td>89     </td> <td>Provisional_Population_Census__00.06.2019.pdf</td>\n",
              "        </tr>\n",
              "        <tr>\n",
              "            <td>18      </td> <td>ព្រះសីហនុ   </td> <td>Preah Sihanouk</td> <td>51983     </td> <td>153255 </td> <td>149632 </td> <td>302887 </td> <td>5.8           </td> <td>1938    </td> <td>156    </td> <td>Provisional_Population_Census__00.06.2019.pdf</td>\n",
              "        </tr>\n",
              "        <tr>\n",
              "            <td>20      </td> <td>ស្វាយរៀង    </td> <td>Svay Rieng    </td> <td>131937    </td> <td>249446 </td> <td>275108 </td> <td>524554 </td> <td>4             </td> <td>2966    </td> <td>177    </td> <td>Provisional_Population_Census__00.06.2019.pdf</td>\n",
              "        </tr>\n",
              "        <tr>\n",
              "            <td>8       </td> <td>កណ្តាល      </td> <td>Kandal        </td> <td>273111    </td> <td>580129 </td> <td>615418 </td> <td>1195547</td> <td>4.4           </td> <td>3179    </td> <td>376    </td> <td>Provisional_Population_Census__00.06.2019.pdf</td>\n",
              "        </tr>\n",
              "        <tr>\n",
              "            <td>21      </td> <td>តាកែវ       </td> <td>Takeo         </td> <td>199362    </td> <td>432649 </td> <td>466836 </td> <td>899485 </td> <td>4.5           </td> <td>3563    </td> <td>252    </td> <td>Provisional_Population_Census__00.06.2019.pdf</td>\n",
              "        </tr>\n",
              "        <tr>\n",
              "            <td>3       </td> <td>កំពង់ចាម    </td> <td>Kampong Cham  </td> <td>215923    </td> <td>428481 </td> <td>467282 </td> <td>895763 </td> <td>4.1           </td> <td>4549    </td> <td>197    </td> <td>Provisional_Population_Census__00.06.2019.pdf</td>\n",
              "        </tr>\n",
              "        <tr>\n",
              "            <td>7       </td> <td>កំពត        </td> <td>Kampot        </td> <td>138374    </td> <td>280537 </td> <td>312308 </td> <td>592845 </td> <td>4.3           </td> <td>4873    </td> <td>122    </td> <td>Provisional_Population_Census__00.06.2019.pdf</td>\n",
              "        </tr>\n",
              "        <tr>\n",
              "            <td>14      </td> <td>ព្រៃវែង     </td> <td>Prey Veng     </td> <td>227008    </td> <td>501346 </td> <td>556082 </td> <td>1057428</td> <td>4.7           </td> <td>4883    </td> <td>217    </td> <td>Provisional_Population_Census__00.06.2019.pdf</td>\n",
              "        </tr>\n",
              "    </tbody>\n",
              "</table>\n",
              "<p>... (16 rows omitted)</p>"
            ]
          },
          "metadata": {},
          "execution_count": 8
        }
      ],
      "source": [
        "# Sort Provinces  by Total Area\n",
        "\n",
        "kh_census.sort(\"area_km2\", descending=False)"
      ]
    },
    {
      "cell_type": "markdown",
      "id": "9e0b1b2e-9c6e-415d-97af-12dce37f843c",
      "metadata": {
        "id": "9e0b1b2e-9c6e-415d-97af-12dce37f843c"
      },
      "source": [
        "## Predicates\n",
        "\n",
        "|Predicate|Example|Result|\n",
        "|-|-|-|\n",
        "|`are.equal_to`|`are.equal_to(50)`|Find rows with values equal to 50|\n",
        "|`are.not_equal_to`|`are.not_equal_to(50)`|Find rows with values not equal to 50|\n",
        "|`are.above`|`are.above(50)`|Find rows with values above (and not equal to) 50|\n",
        "|`are.above_or_equal_to`|`are.above_or_equal_to(50)`|Find rows with values above 50 or equal to 50|\n",
        "|`are.below`|`are.below(50)`|Find rows with values below 50|\n",
        "|`are.between`|`are.between(2, 10)`|Find rows with values above or equal to 2 and below 10|\n",
        "|`are.between_or_equal_to`|`are.between_or_equal_to(2, 10)`|Find rows with values above or equal to 2 and below or equal to 10|"
      ]
    },
    {
      "cell_type": "code",
      "execution_count": 17,
      "id": "ca125ecb-75c0-49f1-a35b-c1b92034bff2",
      "metadata": {
        "id": "ca125ecb-75c0-49f1-a35b-c1b92034bff2",
        "outputId": "34b83664-48de-4c52-d836-9aa207226e57",
        "colab": {
          "base_uri": "https://localhost:8080/",
          "height": 238
        }
      },
      "outputs": [
        {
          "output_type": "execute_result",
          "data": {
            "text/plain": [
              "pro_code | Provinces_kh | Provinces  | Households | Males   | Females | Total    | Household size | area_km2 | pop_km2 | reference\n",
              "2        | បាត់ដំបង     | Battambang | 218584     | 458902  | 528498  | 987400   | 4.5            | 11702    | 84      | Provisional_Population_Census__00.06.2019.pdf\n",
              "8        | កណ្តាល       | Kandal     | 273111     | 580129  | 615418  | 1195547  | 4.4            | 3179     | 376     | Provisional_Population_Census__00.06.2019.pdf\n",
              "12       | ភ្នំពេញ      | Phnom Penh | 399203     | 1039192 | 1090179 | 2129371  | 5.3            | 679      | 3136    | Provisional_Population_Census__00.06.2019.pdf\n",
              "14       | ព្រៃវែង      | Prey Veng  | 227008     | 501346  | 556082  | 1057428  | 4.7            | 4883     | 217     | Provisional_Population_Census__00.06.2019.pdf\n",
              "17       | សៀមរាប       | Siem Reap  | 218659     | 491568  | 514944  | 1006512  | 4.6            | 10299    | 98      | Provisional_Population_Census__00.06.2019.pdf\n",
              "nan      | nan          | Total      | 3341770    | 7418577 | 7869912 | 15288489 | 4.6            | 178035   | 86      | Provisional_Population_Census__00.06.2019.pdf"
            ],
            "text/html": [
              "<table border=\"1\" class=\"dataframe\">\n",
              "    <thead>\n",
              "        <tr>\n",
              "            <th>pro_code</th> <th>Provinces_kh</th> <th>Provinces</th> <th>Households</th> <th>Males</th> <th>Females</th> <th>Total</th> <th>Household size</th> <th>area_km2</th> <th>pop_km2</th> <th>reference</th>\n",
              "        </tr>\n",
              "    </thead>\n",
              "    <tbody>\n",
              "        <tr>\n",
              "            <td>2       </td> <td>បាត់ដំបង    </td> <td>Battambang</td> <td>218584    </td> <td>458902 </td> <td>528498 </td> <td>987400  </td> <td>4.5           </td> <td>11702   </td> <td>84     </td> <td>Provisional_Population_Census__00.06.2019.pdf</td>\n",
              "        </tr>\n",
              "        <tr>\n",
              "            <td>8       </td> <td>កណ្តាល      </td> <td>Kandal    </td> <td>273111    </td> <td>580129 </td> <td>615418 </td> <td>1195547 </td> <td>4.4           </td> <td>3179    </td> <td>376    </td> <td>Provisional_Population_Census__00.06.2019.pdf</td>\n",
              "        </tr>\n",
              "        <tr>\n",
              "            <td>12      </td> <td>ភ្នំពេញ     </td> <td>Phnom Penh</td> <td>399203    </td> <td>1039192</td> <td>1090179</td> <td>2129371 </td> <td>5.3           </td> <td>679     </td> <td>3136   </td> <td>Provisional_Population_Census__00.06.2019.pdf</td>\n",
              "        </tr>\n",
              "        <tr>\n",
              "            <td>14      </td> <td>ព្រៃវែង     </td> <td>Prey Veng </td> <td>227008    </td> <td>501346 </td> <td>556082 </td> <td>1057428 </td> <td>4.7           </td> <td>4883    </td> <td>217    </td> <td>Provisional_Population_Census__00.06.2019.pdf</td>\n",
              "        </tr>\n",
              "        <tr>\n",
              "            <td>17      </td> <td>សៀមរាប      </td> <td>Siem Reap </td> <td>218659    </td> <td>491568 </td> <td>514944 </td> <td>1006512 </td> <td>4.6           </td> <td>10299   </td> <td>98     </td> <td>Provisional_Population_Census__00.06.2019.pdf</td>\n",
              "        </tr>\n",
              "        <tr>\n",
              "            <td>nan     </td> <td>nan         </td> <td>Total     </td> <td>3341770   </td> <td>7418577</td> <td>7869912</td> <td>15288489</td> <td>4.6           </td> <td>178035  </td> <td>86     </td> <td>Provisional_Population_Census__00.06.2019.pdf</td>\n",
              "        </tr>\n",
              "    </tbody>\n",
              "</table>"
            ]
          },
          "metadata": {},
          "execution_count": 17
        }
      ],
      "source": [
        "kh_census.where(\"Females\", are.above(500000))"
      ]
    },
    {
      "cell_type": "code",
      "source": [
        ""
      ],
      "metadata": {
        "id": "yhAxtLD8mOaS"
      },
      "id": "yhAxtLD8mOaS",
      "execution_count": 9,
      "outputs": []
    },
    {
      "cell_type": "markdown",
      "source": [
        "# **Question 1.1** what is the code for Area greater than 10000km2"
      ],
      "metadata": {
        "id": "kkJnDGutnaMW"
      },
      "id": "kkJnDGutnaMW"
    },
    {
      "cell_type": "code",
      "source": [],
      "metadata": {
        "id": "mcsaLcbpno2_"
      },
      "id": "mcsaLcbpno2_",
      "execution_count": null,
      "outputs": []
    },
    {
      "cell_type": "code",
      "source": [
        "%matplotlib inline"
      ],
      "metadata": {
        "id": "wrbheFfOn7nq"
      },
      "id": "wrbheFfOn7nq",
      "execution_count": 20,
      "outputs": []
    },
    {
      "cell_type": "code",
      "source": [
        "kh_census.hist(\"area_km2\")"
      ],
      "metadata": {
        "id": "2eYfFuI1n7u8",
        "outputId": "3fa75ca5-6cb2-45af-978f-c2b9b6e18b41",
        "colab": {
          "base_uri": "https://localhost:8080/",
          "height": 849
        }
      },
      "id": "2eYfFuI1n7u8",
      "execution_count": 21,
      "outputs": [
        {
          "output_type": "display_data",
          "data": {
            "text/plain": [
              "<Figure size 600x400 with 1 Axes>"
            ],
            "image/png": "[encoded data removed]"
          },
          "metadata": {}
        },
        {
          "output_type": "display_data",
          "data": {
            "text/plain": [
              "<Figure size 600x400 with 1 Axes>"
            ],
            "image/png": "[encoded data removed]"
          },
          "metadata": {}
        }
      ]
    },
    {
      "cell_type": "code",
      "source": [
        "kh_provinces=kh_census.where(\"area_km2\", are.below(178034))\n",
        "kh_provinces.sort(\"area_km2\", descending=True)"
      ],
      "metadata": {
        "id": "9MZ97cdLn9hE",
        "outputId": "5afc7c3e-5ea5-4c85-f001-bc744502e08e",
        "colab": {
          "base_uri": "https://localhost:8080/",
          "height": 392
        }
      },
      "id": "9MZ97cdLn9hE",
      "execution_count": 24,
      "outputs": [
        {
          "output_type": "execute_result",
          "data": {
            "text/plain": [
              "pro_code | Provinces_kh | Provinces     | Households | Males  | Females | Total   | Household size | area_km2 | pop_km2 | reference\n",
              "11       | មណ្ឌលគីរី    | Mondul Kiri   | 19609      | 45533  | 43116   | 88649   | 4.5            | 14288    | 6       | Provisional_Population_Census__00.06.2019.pdf\n",
              "6        | កំពង់ធំ      | Kampong Thom  | 154458     | 327013 | 350247  | 677260  | 4.4            | 13814    | 49      | Provisional_Population_Census__00.06.2019.pdf\n",
              "13       | ព្រះវិហារ    | Preah Vihear  | 56331      | 126624 | 124728  | 251352  | 4.5            | 13788    | 18      | Provisional_Population_Census__00.06.2019.pdf\n",
              "15       | ពោធិ៍សាត់    | Pursat        | 102253     | 200392 | 211367  | 411759  | 4              | 12692    | 32      | Provisional_Population_Census__00.06.2019.pdf\n",
              "2        | បាត់ដំបង     | Battambang    | 218584     | 458902 | 528498  | 987400  | 4.5            | 11702    | 84      | Provisional_Population_Census__00.06.2019.pdf\n",
              "10       | ក្រចេះ       | Kratie        | 86137      | 185429 | 187396  | 372825  | 4.3            | 11094    | 34      | Provisional_Population_Census__00.06.2019.pdf\n",
              "19       | ស្ទឹងត្រែង   | Stung Treng   | 34627      | 83093  | 76472   | 159565  | 4.6            | 11092    | 14      | Provisional_Population_Census__00.06.2019.pdf\n",
              "16       | រតនគីរី      | Ratanak Kiri  | 47417      | 102325 | 101702  | 204027  | 4.3            | 10782    | 19      | Provisional_Population_Census__00.06.2019.pdf\n",
              "17       | សៀមរាប       | Siem Reap     | 218659     | 491568 | 514944  | 1006512 | 4.6            | 10299    | 98      | Provisional_Population_Census__00.06.2019.pdf\n",
              "9        | កោះកុង       | Koh Kong      | 26716      | 62304  | 61314   | 123618  | 4.6            | 10090    | 12      | Provisional_Population_Census__00.06.2019.pdf\n",
              "... (15 rows omitted)"
            ],
            "text/html": [
              "<table border=\"1\" class=\"dataframe\">\n",
              "    <thead>\n",
              "        <tr>\n",
              "            <th>pro_code</th> <th>Provinces_kh</th> <th>Provinces</th> <th>Households</th> <th>Males</th> <th>Females</th> <th>Total</th> <th>Household size</th> <th>area_km2</th> <th>pop_km2</th> <th>reference</th>\n",
              "        </tr>\n",
              "    </thead>\n",
              "    <tbody>\n",
              "        <tr>\n",
              "            <td>11      </td> <td>មណ្ឌលគីរី   </td> <td>Mondul Kiri  </td> <td>19609     </td> <td>45533 </td> <td>43116  </td> <td>88649  </td> <td>4.5           </td> <td>14288   </td> <td>6      </td> <td>Provisional_Population_Census__00.06.2019.pdf</td>\n",
              "        </tr>\n",
              "        <tr>\n",
              "            <td>6       </td> <td>កំពង់ធំ     </td> <td>Kampong Thom </td> <td>154458    </td> <td>327013</td> <td>350247 </td> <td>677260 </td> <td>4.4           </td> <td>13814   </td> <td>49     </td> <td>Provisional_Population_Census__00.06.2019.pdf</td>\n",
              "        </tr>\n",
              "        <tr>\n",
              "            <td>13      </td> <td>ព្រះវិហារ   </td> <td>Preah Vihear </td> <td>56331     </td> <td>126624</td> <td>124728 </td> <td>251352 </td> <td>4.5           </td> <td>13788   </td> <td>18     </td> <td>Provisional_Population_Census__00.06.2019.pdf</td>\n",
              "        </tr>\n",
              "        <tr>\n",
              "            <td>15      </td> <td>ពោធិ៍សាត់   </td> <td>Pursat       </td> <td>102253    </td> <td>200392</td> <td>211367 </td> <td>411759 </td> <td>4             </td> <td>12692   </td> <td>32     </td> <td>Provisional_Population_Census__00.06.2019.pdf</td>\n",
              "        </tr>\n",
              "        <tr>\n",
              "            <td>2       </td> <td>បាត់ដំបង    </td> <td>Battambang   </td> <td>218584    </td> <td>458902</td> <td>528498 </td> <td>987400 </td> <td>4.5           </td> <td>11702   </td> <td>84     </td> <td>Provisional_Population_Census__00.06.2019.pdf</td>\n",
              "        </tr>\n",
              "        <tr>\n",
              "            <td>10      </td> <td>ក្រចេះ      </td> <td>Kratie       </td> <td>86137     </td> <td>185429</td> <td>187396 </td> <td>372825 </td> <td>4.3           </td> <td>11094   </td> <td>34     </td> <td>Provisional_Population_Census__00.06.2019.pdf</td>\n",
              "        </tr>\n",
              "        <tr>\n",
              "            <td>19      </td> <td>ស្ទឹងត្រែង  </td> <td>Stung Treng  </td> <td>34627     </td> <td>83093 </td> <td>76472  </td> <td>159565 </td> <td>4.6           </td> <td>11092   </td> <td>14     </td> <td>Provisional_Population_Census__00.06.2019.pdf</td>\n",
              "        </tr>\n",
              "        <tr>\n",
              "            <td>16      </td> <td>រតនគីរី     </td> <td>Ratanak Kiri </td> <td>47417     </td> <td>102325</td> <td>101702 </td> <td>204027 </td> <td>4.3           </td> <td>10782   </td> <td>19     </td> <td>Provisional_Population_Census__00.06.2019.pdf</td>\n",
              "        </tr>\n",
              "        <tr>\n",
              "            <td>17      </td> <td>សៀមរាប      </td> <td>Siem Reap    </td> <td>218659    </td> <td>491568</td> <td>514944 </td> <td>1006512</td> <td>4.6           </td> <td>10299   </td> <td>98     </td> <td>Provisional_Population_Census__00.06.2019.pdf</td>\n",
              "        </tr>\n",
              "        <tr>\n",
              "            <td>9       </td> <td>កោះកុង      </td> <td>Koh Kong     </td> <td>26716     </td> <td>62304 </td> <td>61314  </td> <td>123618 </td> <td>4.6           </td> <td>10090   </td> <td>12     </td> <td>Provisional_Population_Census__00.06.2019.pdf</td>\n",
              "        </tr>\n",
              "    </tbody>\n",
              "</table>\n",
              "<p>... (15 rows omitted)</p>"
            ]
          },
          "metadata": {},
          "execution_count": 24
        }
      ]
    },
    {
      "cell_type": "code",
      "source": [
        "kh_provinces.bar(\"Females\")"
      ],
      "metadata": {
        "id": "cveecrespAq9",
        "outputId": "5a9ea2a8-c9a1-41ac-ef79-41e8c59a32e9",
        "colab": {
          "base_uri": "https://localhost:8080/",
          "height": 293
        }
      },
      "id": "cveecrespAq9",
      "execution_count": 27,
      "outputs": [
        {
          "output_type": "error",
          "ename": "ValueError",
          "evalue": "The column 'Provinces_kh' contains non-numerical values. A plot cannot be drawn for this column.",
          "traceback": [
            "\u001b[0;31m---------------------------------------------------------------------------\u001b[0m",
            "\u001b[0;31mValueError\u001b[0m                                Traceback (most recent call last)",
            "\u001b[0;32m<ipython-input-27-54cd0b8a27c0>\u001b[0m in \u001b[0;36m<cell line: 1>\u001b[0;34m()\u001b[0m\n\u001b[0;32m----> 1\u001b[0;31m \u001b[0mkh_provinces\u001b[0m\u001b[0;34m.\u001b[0m\u001b[0mbar\u001b[0m\u001b[0;34m(\u001b[0m\u001b[0;34m\"Females\"\u001b[0m\u001b[0;34m)\u001b[0m\u001b[0;34m\u001b[0m\u001b[0;34m\u001b[0m\u001b[0m\n\u001b[0m",
            "\u001b[0;32m/usr/local/lib/python3.10/dist-packages/datascience/tables.py\u001b[0m in \u001b[0;36mbar\u001b[0;34m(self, column_for_categories, select, overlay, width, height, **vargs)\u001b[0m\n\u001b[1;32m   3629\u001b[0m                 \u001b[0maxis\u001b[0m\u001b[0;34m.\u001b[0m\u001b[0mset_xticklabels\u001b[0m\u001b[0;34m(\u001b[0m\u001b[0mtick_labels\u001b[0m\u001b[0;34m,\u001b[0m \u001b[0mstretch\u001b[0m\u001b[0;34m=\u001b[0m\u001b[0;34m'ultra-condensed'\u001b[0m\u001b[0;34m)\u001b[0m\u001b[0;34m\u001b[0m\u001b[0;34m\u001b[0m\u001b[0m\n\u001b[1;32m   3630\u001b[0m \u001b[0;34m\u001b[0m\u001b[0m\n\u001b[0;32m-> 3631\u001b[0;31m         \u001b[0mself\u001b[0m\u001b[0;34m.\u001b[0m\u001b[0m_visualize\u001b[0m\u001b[0;34m(\u001b[0m\u001b[0mcolumn_for_categories\u001b[0m\u001b[0;34m,\u001b[0m \u001b[0mlabels\u001b[0m\u001b[0;34m,\u001b[0m \u001b[0mxticks\u001b[0m\u001b[0;34m,\u001b[0m \u001b[0moverlay\u001b[0m\u001b[0;34m,\u001b[0m \u001b[0mdraw\u001b[0m\u001b[0;34m,\u001b[0m \u001b[0mannotate\u001b[0m\u001b[0;34m,\u001b[0m \u001b[0mwidth\u001b[0m\u001b[0;34m=\u001b[0m\u001b[0mwidth\u001b[0m\u001b[0;34m,\u001b[0m \u001b[0mheight\u001b[0m\u001b[0;34m=\u001b[0m\u001b[0mheight\u001b[0m\u001b[0;34m)\u001b[0m\u001b[0;34m\u001b[0m\u001b[0;34m\u001b[0m\u001b[0m\n\u001b[0m\u001b[1;32m   3632\u001b[0m \u001b[0;34m\u001b[0m\u001b[0m\n\u001b[1;32m   3633\u001b[0m     \u001b[0;32mdef\u001b[0m \u001b[0mibar\u001b[0m\u001b[0;34m(\u001b[0m\u001b[0mself\u001b[0m\u001b[0;34m,\u001b[0m \u001b[0mcolumn_for_categories\u001b[0m\u001b[0;34m=\u001b[0m\u001b[0;32mNone\u001b[0m\u001b[0;34m,\u001b[0m \u001b[0mselect\u001b[0m\u001b[0;34m=\u001b[0m\u001b[0;32mNone\u001b[0m\u001b[0;34m,\u001b[0m \u001b[0moverlay\u001b[0m\u001b[0;34m=\u001b[0m\u001b[0;32mTrue\u001b[0m\u001b[0;34m,\u001b[0m \u001b[0mwidth\u001b[0m\u001b[0;34m=\u001b[0m\u001b[0;32mNone\u001b[0m\u001b[0;34m,\u001b[0m \u001b[0mheight\u001b[0m\u001b[0;34m=\u001b[0m\u001b[0;32mNone\u001b[0m\u001b[0;34m,\u001b[0m \u001b[0mshow\u001b[0m\u001b[0;34m=\u001b[0m\u001b[0;32mTrue\u001b[0m\u001b[0;34m,\u001b[0m \u001b[0;34m**\u001b[0m\u001b[0mvargs\u001b[0m\u001b[0;34m)\u001b[0m\u001b[0;34m:\u001b[0m\u001b[0;34m\u001b[0m\u001b[0;34m\u001b[0m\u001b[0m\n",
            "\u001b[0;32m/usr/local/lib/python3.10/dist-packages/datascience/tables.py\u001b[0m in \u001b[0;36m_visualize\u001b[0;34m(self, x_label, y_labels, ticks, overlay, draw, annotate, width, height)\u001b[0m\n\u001b[1;32m   4663\u001b[0m         \u001b[0;32mfor\u001b[0m \u001b[0mlabel\u001b[0m \u001b[0;32min\u001b[0m \u001b[0my_labels\u001b[0m\u001b[0;34m:\u001b[0m\u001b[0;34m\u001b[0m\u001b[0;34m\u001b[0m\u001b[0m\n\u001b[1;32m   4664\u001b[0m             \u001b[0;32mif\u001b[0m \u001b[0;32mnot\u001b[0m \u001b[0mall\u001b[0m\u001b[0;34m(\u001b[0m\u001b[0misinstance\u001b[0m\u001b[0;34m(\u001b[0m\u001b[0mx\u001b[0m\u001b[0;34m,\u001b[0m \u001b[0mnumbers\u001b[0m\u001b[0;34m.\u001b[0m\u001b[0mReal\u001b[0m\u001b[0;34m)\u001b[0m \u001b[0;32mfor\u001b[0m \u001b[0mx\u001b[0m \u001b[0;32min\u001b[0m \u001b[0mself\u001b[0m\u001b[0;34m[\u001b[0m\u001b[0mlabel\u001b[0m\u001b[0;34m]\u001b[0m\u001b[0;34m)\u001b[0m\u001b[0;34m:\u001b[0m\u001b[0;34m\u001b[0m\u001b[0;34m\u001b[0m\u001b[0m\n\u001b[0;32m-> 4665\u001b[0;31m                 raise ValueError(\"The column '{0}' contains non-numerical \"\n\u001b[0m\u001b[1;32m   4666\u001b[0m                     \u001b[0;34m\"values. A plot cannot be drawn for this column.\"\u001b[0m\u001b[0;34m\u001b[0m\u001b[0;34m\u001b[0m\u001b[0m\n\u001b[1;32m   4667\u001b[0m                     .format(label))\n",
            "\u001b[0;31mValueError\u001b[0m: The column 'Provinces_kh' contains non-numerical values. A plot cannot be drawn for this column."
          ]
        }
      ]
    },
    {
      "cell_type": "code",
      "source": [
        "kh_provinces.column(\"Females\").\n"
      ],
      "metadata": {
        "id": "cXNTX7-ZpYC3"
      },
      "id": "cXNTX7-ZpYC3",
      "execution_count": null,
      "outputs": []
    }
  ],
  "metadata": {
    "kernelspec": {
      "display_name": "Python 3 (ipykernel)",
      "language": "python",
      "name": "python3"
    },
    "language_info": {
      "codemirror_mode": {
        "name": "ipython",
        "version": 3
      },
      "file_extension": ".py",
      "mimetype": "text/x-python",
      "name": "python",
      "nbconvert_exporter": "python",
      "pygments_lexer": "ipython3",
      "version": "3.8.15"
    },
    "colab": {
      "provenance": []
    }
  },
  "nbformat": 4,
  "nbformat_minor": 5
}